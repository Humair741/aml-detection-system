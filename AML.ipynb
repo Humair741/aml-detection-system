{
 "cells": [
  {
   "cell_type": "markdown",
   "id": "e56d6728-d645-4f4c-9edc-3d9481d13437",
   "metadata": {},
   "source": [
    "# Project Directory Structure"
   ]
  },
  {
   "cell_type": "code",
   "execution_count": 2,
   "id": "34901af5-5f1f-4a66-b0a8-43abff599883",
   "metadata": {},
   "outputs": [],
   "source": [
    "# Create project directory structure \n",
    "!mkdir data\n",
    "!mkdir data\\raw\n",
    "!mkdir data\\processed\n",
    "!mkdir data\\synthetic\n",
    "!mkdir notebooks\n",
    "!mkdir src\n",
    "!mkdir docs\n",
    "!mkdir docs\\technical\n",
    "!mkdir docs\\business\n",
    "!mkdir dashboard"
   ]
  },
  {
   "cell_type": "markdown",
   "id": "b4b90572-0500-4a00-a08d-c1fb8f11fcd9",
   "metadata": {},
   "source": [
    "### Initialize git repository"
   ]
  },
  {
   "cell_type": "code",
   "execution_count": 5,
   "id": "672cb069-511c-4bd5-8c25-06506295b02d",
   "metadata": {},
   "outputs": [
    {
     "name": "stdout",
     "output_type": "stream",
     "text": [
      "Initialized empty Git repository in C:/Users/Obaidullah/Videos/AML/.git/\n"
     ]
    }
   ],
   "source": [
    "!git init"
   ]
  },
  {
   "cell_type": "markdown",
   "id": "1ab323da-3f9a-49e5-b207-56165f960d93",
   "metadata": {},
   "source": [
    "### create readme.md"
   ]
  },
  {
   "cell_type": "code",
   "execution_count": 8,
   "id": "182d66a1-de33-4686-9c7b-b85afdedf44a",
   "metadata": {},
   "outputs": [
    {
     "name": "stdout",
     "output_type": "stream",
     "text": [
      "Writing README.md\n"
     ]
    }
   ],
   "source": [
    "%%writefile README.md\n",
    "# Investment Banking AML Detection System\n",
    "\n",
    "## Overview\n",
    "This project implements an advanced Anti-Money Laundering (AML) detection system focused on the investment banking sector. It uses data analytics and machine learning to identify suspicious patterns related to:\n",
    "\n",
    "- Trade-Based Money Laundering (TBML)\n",
    "- Casino-based money laundering schemes\n",
    "- Complex financing and leasing arrangements\n",
    "\n",
    "## Project Structure\n",
    "- `notebooks/`: Jupyter notebooks for analysis and model development\n",
    "- `data/`: Financial transaction datasets and synthetic patterns\n",
    "- `src/`: Supporting Python modules\n",
    "- `dashboard/`: Interactive visualization dashboard\n",
    "- `docs/`: Technical and business documentation\n",
    "\n",
    "## Getting Started\n",
    "1. Clone this repository\n",
    "2. Install requirements: `pip install -r requirements.txt`\n",
    "3. Run notebooks in sequence starting with `01_data_preparation.ipynb`\n",
    "\n",
    "## Features\n",
    "- Transaction anomaly detection\n",
    "- Network analysis of financial relationships\n",
    "- Risk scoring system\n",
    "- Interactive visualization dashboard\n",
    "- Narrative-driven case studies\n",
    "\n",
    "## Technologies\n",
    "- Python, Pandas, Scikit-learn\n",
    "- NetworkX for relationship analysis\n",
    "- Plotly & Dash for visualization\n",
    "- Jupyter Notebooks for development"
   ]
  },
  {
   "cell_type": "markdown",
   "id": "19753de0-ae40-439f-b231-15ab199a74a8",
   "metadata": {},
   "source": [
    "### Requirements"
   ]
  },
  {
   "cell_type": "code",
   "execution_count": 11,
   "id": "cf19849b-58e4-43a7-846d-ffa3c1e43e36",
   "metadata": {},
   "outputs": [
    {
     "name": "stdout",
     "output_type": "stream",
     "text": [
      "Writing requirements.txt\n"
     ]
    }
   ],
   "source": [
    "%%writefile requirements.txt\n",
    "pandas==2.0.0\n",
    "numpy==1.24.3\n",
    "scikit-learn==1.2.2\n",
    "matplotlib==3.7.1\n",
    "seaborn==0.12.2\n",
    "plotly==5.14.1\n",
    "dash==2.9.3\n",
    "networkx==3.1\n",
    "jupyter==1.0.0\n",
    "nbformat>=5.7.0"
   ]
  },
  {
   "cell_type": "markdown",
   "id": "5dc25eb0-c9ce-44d8-9921-ca3bffeba710",
   "metadata": {},
   "source": [
    "### Create .gitignore file"
   ]
  },
  {
   "cell_type": "code",
   "execution_count": 14,
   "id": "5681ccba-4cfe-4ef7-8070-537067d7cee4",
   "metadata": {},
   "outputs": [
    {
     "name": "stdout",
     "output_type": "stream",
     "text": [
      "Writing .gitignore\n"
     ]
    }
   ],
   "source": [
    "%%writefile .gitignore\n",
    "# Python\n",
    "__pycache__/\n",
    "*.py[cod]\n",
    "*$py.class\n",
    "*.so\n",
    ".Python\n",
    "env/\n",
    "build/\n",
    "develop-eggs/\n",
    "dist/\n",
    "downloads/\n",
    "eggs/\n",
    ".eggs/\n",
    "lib/\n",
    "lib64/\n",
    "parts/\n",
    "sdist/\n",
    "var/\n",
    "*.egg-info/\n",
    ".installed.cfg\n",
    "*.egg\n",
    "\n",
    "# Jupyter Notebook\n",
    ".ipynb_checkpoints\n",
    "\n",
    "# Virtual Environment\n",
    "venv/\n",
    "ENV/\n",
    "\n",
    "# Data files\n",
    "data/raw/*.csv\n",
    "data/raw/*.xlsx\n",
    "data/processed/*.csv\n",
    "data/synthetic/*.csv\n",
    "*.csv\n",
    "*.xlsx\n",
    "*.parquet\n",
    "\n",
    "# Credentials\n",
    ".env\n",
    "config.ini\n",
    "*credentials*\n",
    "\n",
    "# OS specific\n",
    ".DS_Store\n",
    "Thumbs.db"
   ]
  },
  {
   "cell_type": "markdown",
   "id": "6ad98011-b8e1-4a47-902e-6fc8d7edd01a",
   "metadata": {},
   "source": [
    "# AML Detection System: Data Preparation"
   ]
  },
  {
   "cell_type": "markdown",
   "id": "75c686ae-08e5-4e16-a2e3-3c399a74a704",
   "metadata": {},
   "source": [
    "This notebook covers Phase 1 of our AML Detection System project focused on investment banking, including:\n",
    "\n",
    "1. Data acquisition from public sources\n",
    "2. Exploratory data analysis\n",
    "3. Synthetic data generation for money laundering patterns"
   ]
  },
  {
   "cell_type": "markdown",
   "id": "185199cd-5e0c-4b69-ad03-34592706f9c9",
   "metadata": {},
   "source": [
    "## Project Overview\r\n",
    "\r\n",
    "We're building a sophisticated AML detection system for investment banking that uncovers advanced money laundering schemes through visualization and narrative-driven insights. The system will focus on detecting patterns like Trade-Based Money Laundering (TBML), casino exploitation, and complex financing arrangement\"\"\""
   ]
  },
  {
   "cell_type": "markdown",
   "id": "44cfa8e7-b96f-446a-b5de-999483c72f1e",
   "metadata": {},
   "source": [
    "## Setup and Dependencies\r\n",
    "\r\n",
    "First, we'll install and import all the necessary libraries for our analysis."
   ]
  },
  {
   "cell_type": "markdown",
   "id": "0d456c30-cff5-4f58-8bd1-8dcfa8bd4523",
   "metadata": {},
   "source": [
    "# Install required packages"
   ]
  },
  {
   "cell_type": "code",
   "execution_count": 22,
   "id": "ed36be4f-8803-44d5-af6f-8e36488545c0",
   "metadata": {},
   "outputs": [
    {
     "name": "stdout",
     "output_type": "stream",
     "text": [
      "Requirement already satisfied: pandas in d:\\anaconda\\lib\\site-packages (2.2.2)\n",
      "Requirement already satisfied: numpy in d:\\anaconda\\lib\\site-packages (1.26.4)\n",
      "Requirement already satisfied: matplotlib in d:\\anaconda\\lib\\site-packages (3.8.4)\n",
      "Requirement already satisfied: seaborn in d:\\anaconda\\lib\\site-packages (0.13.2)\n",
      "Requirement already satisfied: scikit-learn in d:\\anaconda\\lib\\site-packages (1.4.2)\n",
      "Requirement already satisfied: networkx in d:\\anaconda\\lib\\site-packages (3.2.1)\n",
      "Requirement already satisfied: requests in d:\\anaconda\\lib\\site-packages (2.32.2)\n",
      "Requirement already satisfied: plotly in d:\\anaconda\\lib\\site-packages (5.22.0)\n",
      "Requirement already satisfied: python-dateutil>=2.8.2 in d:\\anaconda\\lib\\site-packages (from pandas) (2.9.0.post0)\n",
      "Requirement already satisfied: pytz>=2020.1 in d:\\anaconda\\lib\\site-packages (from pandas) (2024.1)\n",
      "Requirement already satisfied: tzdata>=2022.7 in d:\\anaconda\\lib\\site-packages (from pandas) (2023.3)\n",
      "Requirement already satisfied: contourpy>=1.0.1 in d:\\anaconda\\lib\\site-packages (from matplotlib) (1.2.0)\n",
      "Requirement already satisfied: cycler>=0.10 in d:\\anaconda\\lib\\site-packages (from matplotlib) (0.11.0)\n",
      "Requirement already satisfied: fonttools>=4.22.0 in d:\\anaconda\\lib\\site-packages (from matplotlib) (4.51.0)\n",
      "Requirement already satisfied: kiwisolver>=1.3.1 in d:\\anaconda\\lib\\site-packages (from matplotlib) (1.4.4)\n",
      "Requirement already satisfied: packaging>=20.0 in d:\\anaconda\\lib\\site-packages (from matplotlib) (23.2)\n",
      "Requirement already satisfied: pillow>=8 in d:\\anaconda\\lib\\site-packages (from matplotlib) (10.3.0)\n",
      "Requirement already satisfied: pyparsing>=2.3.1 in d:\\anaconda\\lib\\site-packages (from matplotlib) (3.0.9)\n",
      "Requirement already satisfied: scipy>=1.6.0 in d:\\anaconda\\lib\\site-packages (from scikit-learn) (1.13.1)\n",
      "Requirement already satisfied: joblib>=1.2.0 in d:\\anaconda\\lib\\site-packages (from scikit-learn) (1.4.2)\n",
      "Requirement already satisfied: threadpoolctl>=2.0.0 in d:\\anaconda\\lib\\site-packages (from scikit-learn) (2.2.0)\n",
      "Requirement already satisfied: charset-normalizer<4,>=2 in d:\\anaconda\\lib\\site-packages (from requests) (2.0.4)\n",
      "Requirement already satisfied: idna<4,>=2.5 in d:\\anaconda\\lib\\site-packages (from requests) (3.7)\n",
      "Requirement already satisfied: urllib3<3,>=1.21.1 in d:\\anaconda\\lib\\site-packages (from requests) (2.2.2)\n",
      "Requirement already satisfied: certifi>=2017.4.17 in d:\\anaconda\\lib\\site-packages (from requests) (2024.7.4)\n",
      "Requirement already satisfied: tenacity>=6.2.0 in d:\\anaconda\\lib\\site-packages (from plotly) (8.2.2)\n",
      "Requirement already satisfied: six>=1.5 in d:\\anaconda\\lib\\site-packages (from python-dateutil>=2.8.2->pandas) (1.16.0)\n"
     ]
    }
   ],
   "source": [
    "!pip install pandas numpy matplotlib seaborn scikit-learn networkx requests plotly"
   ]
  },
  {
   "cell_type": "markdown",
   "id": "e4e6a32a-adbc-4926-86c6-91249c8b3ca0",
   "metadata": {},
   "source": [
    "Now let's import all the libraries we'll need for data acquisition and processing."
   ]
  },
  {
   "cell_type": "markdown",
   "id": "feb1e291-7b6e-4d97-8227-facf16ac6a8c",
   "metadata": {},
   "source": [
    "# Import libraries"
   ]
  },
  {
   "cell_type": "code",
   "execution_count": 26,
   "id": "0d99a10b-f807-414f-9908-8d96681effd0",
   "metadata": {},
   "outputs": [],
   "source": [
    "import pandas as pd\n",
    "import numpy as np\n",
    "import matplotlib.pyplot as plt\n",
    "import seaborn as sns\n",
    "import requests\n",
    "import json\n",
    "import os\n",
    "import random\n",
    "from datetime import datetime, timedelta\n",
    "import networkx as nx\n",
    "from sklearn.preprocessing import StandardScaler\n",
    "import plotly.express as px\n",
    "import plotly.graph_objects as go"
   ]
  },
  {
   "cell_type": "markdown",
   "id": "d751eed5-9412-434d-b8f7-24bf954fd7b4",
   "metadata": {},
   "source": [
    "# Set random seed for reproducibility"
   ]
  },
  {
   "cell_type": "code",
   "execution_count": 29,
   "id": "d2722216-1851-4eb1-a727-595751afbfd0",
   "metadata": {},
   "outputs": [],
   "source": [
    "np.random.seed(42)\n",
    "random.seed(42)"
   ]
  },
  {
   "cell_type": "markdown",
   "id": "1f38d44c-efdb-4e92-ac00-c29449c74dc7",
   "metadata": {},
   "source": [
    "# Configure visualizations"
   ]
  },
  {
   "cell_type": "code",
   "execution_count": 32,
   "id": "bafa4230-af66-4a86-b46c-311f439b521d",
   "metadata": {},
   "outputs": [],
   "source": [
    "plt.style.use('ggplot')\n",
    "sns.set(style=\"whitegrid\")\n",
    "%matplotlib inline"
   ]
  },
  {
   "cell_type": "markdown",
   "id": "dfd935a1-e712-4b0e-84ef-5f1995adf3c0",
   "metadata": {},
   "source": [
    "### Create Directory Structure\r\n",
    "\r\n",
    "We'll create the necessary directory structure for our project to store the data we'll be working with."
   ]
  },
  {
   "cell_type": "code",
   "execution_count": 52,
   "id": "6501e2a4-1689-4299-acf0-6d6ed2d17b85",
   "metadata": {},
   "outputs": [
    {
     "name": "stdout",
     "output_type": "stream",
     "text": [
      "Current working directory: C:\\Users\\Obaidullah\\Videos\\AML\n",
      "Created directories:\n",
      "- Raw data: C:\\Users\\Obaidullah\\Videos\\AML\\data\\raw\n",
      "- Processed data: C:\\Users\\Obaidullah\\Videos\\AML\\data\\processed\n",
      "- Synthetic data: C:\\Users\\Obaidullah\\Videos\\AML\\data\\synthetic\n"
     ]
    }
   ],
   "source": [
    "# Get the current working directory\n",
    "current_dir = os.getcwd()\n",
    "print(f\"Current working directory: {current_dir}\")\n",
    "\n",
    "# Create necessary directories with absolute paths\n",
    "data_dir = os.path.join(current_dir, 'data')\n",
    "raw_dir = os.path.join(data_dir, 'raw')\n",
    "processed_dir = os.path.join(data_dir, 'processed')\n",
    "synthetic_dir = os.path.join(data_dir, 'synthetic')\n",
    "\n",
    "os.makedirs(raw_dir, exist_ok=True)\n",
    "os.makedirs(processed_dir, exist_ok=True)\n",
    "os.makedirs(synthetic_dir, exist_ok=True)\n",
    "\n",
    "print(f\"Created directories:\")\n",
    "print(f\"- Raw data: {raw_dir}\")\n",
    "print(f\"- Processed data: {processed_dir}\")\n",
    "print(f\"- Synthetic data: {synthetic_dir}\")"
   ]
  },
  {
   "cell_type": "markdown",
   "id": "6c6cca4c-3e34-4d3c-a613-abf6b7566a11",
   "metadata": {},
   "source": [
    "## 1. Data Acquisition\r\n",
    "\r\n",
    "In this section, we'll acquire financial transaction data from public sources, particularly focusing on FINTRAC (Financial Transactions and Reports Analysis Centre of Canada) data.\r\n",
    "\r\n",
    "### 1.1 Download Function for FINTRAC Data\r\n",
    "\r\n",
    "First, we'll define a function to download data from the Open Government Portal. This function will:\r\n",
    "- Check if the file already exists locally\r\n",
    "- Download the file if it doesn't exist\r\n",
    "- Return the data as a DataFrame"
   ]
  },
  {
   "cell_type": "code",
   "execution_count": 40,
   "id": "d133b716-d5bd-4b7d-b2dc-0b76c8906cbc",
   "metadata": {},
   "outputs": [],
   "source": [
    "def download_fintrac_data(url, save_path):\n",
    "    \"\"\"\n",
    "    Downloads FINTRAC data from the specified URL and saves it to the given path.\n",
    "    \n",
    "    Args:\n",
    "        url (str): URL to download the data from\n",
    "        save_path (str): Path where the data will be saved\n",
    "    \n",
    "    Returns:\n",
    "        pandas.DataFrame: The downloaded data as a DataFrame\n",
    "    \"\"\"\n",
    "    # Check if file already exists\n",
    "    if os.path.exists(save_path):\n",
    "        print(f\"Loading existing file from {save_path}\")\n",
    "        return pd.read_csv(save_path)\n",
    "    \n",
    "    # Download the file\n",
    "    print(f\"Downloading data from {url}\")\n",
    "    response = requests.get(url)\n",
    "    \n",
    "    if response.status_code == 200:\n",
    "        # Save the file\n",
    "        with open(save_path, 'wb') as f:\n",
    "            f.write(response.content)\n",
    "        print(f\"Data saved to {save_path}\")\n",
    "        \n",
    "        # Return the data as a DataFrame\n",
    "        return pd.read_csv(save_path)\n",
    "    else:\n",
    "        print(f\"Failed to download data: {response.status_code}\")\n",
    "        return None"
   ]
  },
  {
   "cell_type": "markdown",
   "id": "69627f1a-07f0-44ee-8e3e-390f6780da92",
   "metadata": {},
   "source": [
    "### 1.2 Download FINTRAC Data\r\n",
    "\r\n",
    "Now we'll download two key FINTRAC datasets:\r\n",
    "1. Suspicious Transaction Reports\r\n",
    "2. Large Cash Transaction Reports\r\n",
    "\r\n",
    "Note: The URLs below are placeholders and would need to be replaced with actual URLs from the Open Government Portal in a real implementn.\r\n",
    "\"\"\""
   ]
  },
  {
   "cell_type": "code",
   "execution_count": 44,
   "id": "93551bf7-260d-48c4-9763-859e7a9ca931",
   "metadata": {},
   "outputs": [
    {
     "name": "stdout",
     "output_type": "stream",
     "text": [
      "Downloading data from https://open.canada.ca/data/dataset/5e756e0c-d254-49d6-9813-a82c61b762dc/resource/f3bcc5db-68e2-454a-82a8-73bdfd99ef4e/download/fintrac-suspicious-transaction-reports.csv\n",
      "Failed to download data: 404\n",
      "Downloading data from https://open.canada.ca/data/dataset/5e756e0c-d254-49d6-9813-a82c61b762dc/resource/bafaaf6a-5b0c-4eef-9652-cad254b8d6a9/download/fintrac-large-cash-transaction-reports.csv\n",
      "Failed to download data: 404\n",
      "Failed to download one or more FINTRAC datasets.\n",
      "Will proceed with synthetic data generation.\n"
     ]
    }
   ],
   "source": [
    "# URLs for FINTRAC data (example URLs - replace with actual FINTRAC data URLs)\n",
    "fintrac_suspicious_transactions_url = \"https://open.canada.ca/data/dataset/5e756e0c-d254-49d6-9813-a82c61b762dc/resource/f3bcc5db-68e2-454a-82a8-73bdfd99ef4e/download/fintrac-suspicious-transaction-reports.csv\"\n",
    "fintrac_large_cash_transactions_url = \"https://open.canada.ca/data/dataset/5e756e0c-d254-49d6-9813-a82c61b762dc/resource/bafaaf6a-5b0c-4eef-9652-cad254b8d6a9/download/fintrac-large-cash-transaction-reports.csv\"\n",
    "\n",
    "# Attempt to download the data\n",
    "try:\n",
    "    suspicious_transactions_df = download_fintrac_data(\n",
    "        fintrac_suspicious_transactions_url, \n",
    "        '../data/raw/fintrac_suspicious_transactions.csv'\n",
    "    )\n",
    "\n",
    "    large_cash_transactions_df = download_fintrac_data(\n",
    "        fintrac_large_cash_transactions_url, \n",
    "        '../data/raw/fintrac_large_cash_transactions.csv'\n",
    "    )\n",
    "    \n",
    "    # Check if data was successfully downloaded\n",
    "    if suspicious_transactions_df is not None and large_cash_transactions_df is not None:\n",
    "        print(\"Successfully downloaded FINTRAC data!\")\n",
    "    else:\n",
    "        print(\"Failed to download one or more FINTRAC datasets.\")\n",
    "        print(\"Will proceed with synthetic data generation.\")\n",
    "except Exception as e:\n",
    "    print(f\"Error downloading FINTRAC data: {e}\")\n",
    "    print(\"Will proceed with synthetic data generation.\")"
   ]
  },
  {
   "cell_type": "markdown",
   "id": "dfe271d5-4887-47ff-bde8-7c92687ba442",
   "metadata": {},
   "source": [
    "## 1.3 Generate Synthetic FINTRAC-like Data\r\n",
    "\r\n",
    "Since the real FINTRAC data might not be accessible or might have limitations, we'll create a synthetic dataset that mimics the structure and patterns of real FINTRAC data. This is particularly useful for development and testing purposes.\r\n",
    "\r\n",
    "Our synthetic data will include:\r\n",
    "- Temporal information (year, month)\r\n",
    "- Sector categories (banking, securities, etc.)\r\n",
    "- Report types (STR, LCTR, etc.)\r\n",
    "- Geographic information (provinces, postal codes)\r\n",
    "- Transaction counts and amounts\r\n",
    "\r\n",
    "First, let's define a function to generate synthetic FINTRAC-like data:"
   ]
  },
  {
   "cell_type": "code",
   "execution_count": 47,
   "id": "07a16a28-04c5-4764-a478-4a588c993e94",
   "metadata": {},
   "outputs": [],
   "source": [
    "def generate_synthetic_fintrac_data(n_records=1000):\n",
    "    \"\"\"\n",
    "    Generates synthetic FINTRAC-like data for suspicious transaction reports.\n",
    "    \n",
    "    Args:\n",
    "        n_records (int): Number of records to generate\n",
    "        \n",
    "    Returns:\n",
    "        pandas.DataFrame: DataFrame containing synthetic FINTRAC-like data\n",
    "    \"\"\"\n",
    "    # Define possible values for categorical columns\n",
    "    sectors = [\n",
    "        'Banking', 'Securities Dealers', 'Money Services Businesses', \n",
    "        'Life Insurance', 'Real Estate', 'Casinos', 'Accountants', 'Notaries'\n",
    "    ]\n",
    "    \n",
    "    report_types = [\n",
    "        'Suspicious Transaction Report', 'Large Cash Transaction Report',\n",
    "        'Electronic Funds Transfer Report', 'Casino Disbursement Report'\n",
    "    ]\n",
    "    \n",
    "    provinces = [\n",
    "        'Ontario', 'Quebec', 'British Columbia', 'Alberta', 'Manitoba',\n",
    "        'Saskatchewan', 'Nova Scotia', 'New Brunswick', 'Newfoundland and Labrador',\n",
    "        'Prince Edward Island', 'Northwest Territories', 'Nunavut', 'Yukon'\n",
    "    ]\n",
    "    \n",
    "    # Generate data with realistic distributions\n",
    "    # Banking and Securities sectors have higher representation\n",
    "    # STRs and LCTRs are more common than other report types\n",
    "    data = {\n",
    "        'Year': np.random.choice(range(2015, 2025), n_records),\n",
    "        'Month': np.random.choice(range(1, 13), n_records),\n",
    "        'Sector': np.random.choice(sectors, n_records, p=[0.35, 0.2, 0.15, 0.1, 0.1, 0.05, 0.03, 0.02]),\n",
    "        'Report_Type': np.random.choice(report_types, n_records, p=[0.4, 0.3, 0.2, 0.1]),\n",
    "        'Province': np.random.choice(provinces, n_records),\n",
    "        'Count': np.random.poisson(10, n_records),  # Number of reports follows Poisson distribution\n",
    "        'Amount': np.random.exponential(10000, n_records) * np.random.lognormal(0, 0.5, n_records),  # Transaction amounts follow heavy-tailed distribution\n",
    "    }\n",
    "    \n",
    "    # Convert to DataFrame\n",
    "    df = pd.DataFrame(data)\n",
    "    \n",
    "    # Create Date column\n",
    "    df['Date'] = pd.to_datetime(df[['Year', 'Month']].assign(Day=1))\n",
    "    \n",
    "    # Round amounts\n",
    "    df['Amount'] = df['Amount'].round(2)\n",
    "    \n",
    "    # Additional metadata - postal code prefixes\n",
    "    df['Postal_Code_Prefix'] = np.random.choice([f\"{l1}{d1}{l2}\" for l1 in \"ABCEGHJKLMNPRSTVXY\" for d1 in range(10) for l2 in \"ABCEGHJKLMNPRSTVWXYZ\"], n_records)\n",
    "    \n",
    "    return df"
   ]
  },
  {
   "cell_type": "markdown",
   "id": "cf9540d8-068d-4f82-97c2-f1fabea5614d",
   "metadata": {},
   "source": [
    "Now, let's generate a significant amount of synthetic data (5,000 records) to work with. We're generating a large dataset to ensure we have enough data to detect patterns and train models in later phases."
   ]
  },
  {
   "cell_type": "code",
   "execution_count": 54,
   "id": "fce3af5c-08cd-4491-8636-b8d3331e6073",
   "metadata": {},
   "outputs": [
    {
     "name": "stdout",
     "output_type": "stream",
     "text": [
      "Generated 5000 synthetic FINTRAC records\n",
      "Data saved to: C:\\Users\\Obaidullah\\Videos\\AML\\data\\synthetic\\synthetic_fintrac_data.csv\n",
      "File successfully created! File size: 446.89 KB\n"
     ]
    },
    {
     "data": {
      "text/html": [
       "<div>\n",
       "<style scoped>\n",
       "    .dataframe tbody tr th:only-of-type {\n",
       "        vertical-align: middle;\n",
       "    }\n",
       "\n",
       "    .dataframe tbody tr th {\n",
       "        vertical-align: top;\n",
       "    }\n",
       "\n",
       "    .dataframe thead th {\n",
       "        text-align: right;\n",
       "    }\n",
       "</style>\n",
       "<table border=\"1\" class=\"dataframe\">\n",
       "  <thead>\n",
       "    <tr style=\"text-align: right;\">\n",
       "      <th></th>\n",
       "      <th>Year</th>\n",
       "      <th>Month</th>\n",
       "      <th>Sector</th>\n",
       "      <th>Report_Type</th>\n",
       "      <th>Province</th>\n",
       "      <th>Count</th>\n",
       "      <th>Amount</th>\n",
       "      <th>Date</th>\n",
       "      <th>Postal_Code_Prefix</th>\n",
       "    </tr>\n",
       "  </thead>\n",
       "  <tbody>\n",
       "    <tr>\n",
       "      <th>0</th>\n",
       "      <td>2021</td>\n",
       "      <td>4</td>\n",
       "      <td>Securities Dealers</td>\n",
       "      <td>Suspicious Transaction Report</td>\n",
       "      <td>Newfoundland and Labrador</td>\n",
       "      <td>14</td>\n",
       "      <td>54477.58</td>\n",
       "      <td>2021-04-01</td>\n",
       "      <td>B2M</td>\n",
       "    </tr>\n",
       "    <tr>\n",
       "      <th>1</th>\n",
       "      <td>2023</td>\n",
       "      <td>1</td>\n",
       "      <td>Money Services Businesses</td>\n",
       "      <td>Large Cash Transaction Report</td>\n",
       "      <td>Northwest Territories</td>\n",
       "      <td>6</td>\n",
       "      <td>15190.09</td>\n",
       "      <td>2023-01-01</td>\n",
       "      <td>N4T</td>\n",
       "    </tr>\n",
       "    <tr>\n",
       "      <th>2</th>\n",
       "      <td>2015</td>\n",
       "      <td>7</td>\n",
       "      <td>Life Insurance</td>\n",
       "      <td>Large Cash Transaction Report</td>\n",
       "      <td>Nova Scotia</td>\n",
       "      <td>7</td>\n",
       "      <td>8596.86</td>\n",
       "      <td>2015-07-01</td>\n",
       "      <td>E4Y</td>\n",
       "    </tr>\n",
       "    <tr>\n",
       "      <th>3</th>\n",
       "      <td>2017</td>\n",
       "      <td>9</td>\n",
       "      <td>Banking</td>\n",
       "      <td>Suspicious Transaction Report</td>\n",
       "      <td>Northwest Territories</td>\n",
       "      <td>10</td>\n",
       "      <td>13296.63</td>\n",
       "      <td>2017-09-01</td>\n",
       "      <td>T5K</td>\n",
       "    </tr>\n",
       "    <tr>\n",
       "      <th>4</th>\n",
       "      <td>2022</td>\n",
       "      <td>12</td>\n",
       "      <td>Banking</td>\n",
       "      <td>Electronic Funds Transfer Report</td>\n",
       "      <td>Saskatchewan</td>\n",
       "      <td>8</td>\n",
       "      <td>11140.46</td>\n",
       "      <td>2022-12-01</td>\n",
       "      <td>K0Z</td>\n",
       "    </tr>\n",
       "  </tbody>\n",
       "</table>\n",
       "</div>"
      ],
      "text/plain": [
       "   Year  Month                     Sector                       Report_Type  \\\n",
       "0  2021      4         Securities Dealers     Suspicious Transaction Report   \n",
       "1  2023      1  Money Services Businesses     Large Cash Transaction Report   \n",
       "2  2015      7             Life Insurance     Large Cash Transaction Report   \n",
       "3  2017      9                    Banking     Suspicious Transaction Report   \n",
       "4  2022     12                    Banking  Electronic Funds Transfer Report   \n",
       "\n",
       "                    Province  Count    Amount       Date Postal_Code_Prefix  \n",
       "0  Newfoundland and Labrador     14  54477.58 2021-04-01                B2M  \n",
       "1      Northwest Territories      6  15190.09 2023-01-01                N4T  \n",
       "2                Nova Scotia      7   8596.86 2015-07-01                E4Y  \n",
       "3      Northwest Territories     10  13296.63 2017-09-01                T5K  \n",
       "4               Saskatchewan      8  11140.46 2022-12-01                K0Z  "
      ]
     },
     "execution_count": 54,
     "metadata": {},
     "output_type": "execute_result"
    }
   ],
   "source": [
    "# Generate synthetic FINTRAC data\n",
    "synthetic_fintrac_df = generate_synthetic_fintrac_data(5000)\n",
    "\n",
    "# Save the synthetic data with absolute path\n",
    "synthetic_file_path = os.path.join(synthetic_dir, 'synthetic_fintrac_data.csv')\n",
    "synthetic_fintrac_df.to_csv(synthetic_file_path, index=False)\n",
    "\n",
    "print(f\"Generated {len(synthetic_fintrac_df)} synthetic FINTRAC records\")\n",
    "print(f\"Data saved to: {synthetic_file_path}\")\n",
    "\n",
    "# Verify the file exists\n",
    "if os.path.exists(synthetic_file_path):\n",
    "    print(f\"File successfully created! File size: {os.path.getsize(synthetic_file_path) / 1024:.2f} KB\")\n",
    "else:\n",
    "    print(\"Warning: File was not created successfully\")\n",
    "\n",
    "# Display the first few rows\n",
    "synthetic_fintrac_df.head()"
   ]
  }
 ],
 "metadata": {
  "kernelspec": {
   "display_name": "Python 3 (ipykernel)",
   "language": "python",
   "name": "python3"
  },
  "language_info": {
   "codemirror_mode": {
    "name": "ipython",
    "version": 3
   },
   "file_extension": ".py",
   "mimetype": "text/x-python",
   "name": "python",
   "nbconvert_exporter": "python",
   "pygments_lexer": "ipython3",
   "version": "3.12.4"
  }
 },
 "nbformat": 4,
 "nbformat_minor": 5
}
